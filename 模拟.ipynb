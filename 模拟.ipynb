{
 "cells": [
  {
   "cell_type": "code",
   "execution_count": 1,
   "metadata": {},
   "outputs": [],
   "source": [
    "import numpy as np\n",
    "import matplotlib.pyplot as plt"
   ]
  },
  {
   "cell_type": "markdown",
   "metadata": {},
   "source": [
    "# Parameters"
   ]
  },
  {
   "cell_type": "code",
   "execution_count": 103,
   "metadata": {},
   "outputs": [],
   "source": [
    "N = 500\n",
    "m = 3\n",
    "s = 4\n",
    "T = 100\n",
    "r = 4\n",
    "L = 0\n",
    "step = 500\n",
    "k0 = 2"
   ]
  },
  {
   "cell_type": "markdown",
   "metadata": {},
   "source": [
    "# Make Necessary Functions\n",
    "### Strategy books: FSS and RSS.\n",
    "### X[t] and mu[t] and S[t] D[t] denpend on the t-1 step and some other parameters."
   ]
  },
  {
   "cell_type": "code",
   "execution_count": 3,
   "metadata": {},
   "outputs": [
    {
     "name": "stdout",
     "output_type": "stream",
     "text": [
      "[[ 1  1  1 ...  1  1  1]\n",
      " [ 1  1  1 ...  1  1 -1]\n",
      " [ 1  1  1 ...  1 -1  1]\n",
      " ...\n",
      " [-1 -1 -1 ... -1  1 -1]\n",
      " [-1 -1 -1 ... -1 -1  1]\n",
      " [-1 -1 -1 ... -1 -1 -1]]\n"
     ]
    }
   ],
   "source": [
    "#FSS:\n",
    "def FSS(m):\n",
    "    P = 2**m\n",
    "    a = [1,-1]\n",
    "    sb = np.zeros([2**P,P],dtype=int)\n",
    "    def generate_permutations(length, current_permutation=[]):\n",
    "        if length == 0:\n",
    "            yield current_permutation\n",
    "        else:\n",
    "            for value in a:\n",
    "                for permutation in generate_permutations(length - 1, current_permutation + [value]):\n",
    "                    yield permutation\n",
    "\n",
    "    all_permutations = np.array(list(generate_permutations(P)))\n",
    "    return all_permutations\n",
    "\n",
    "print(FSS(m))\n",
    "        "
   ]
  },
  {
   "cell_type": "code",
   "execution_count": 4,
   "metadata": {},
   "outputs": [
    {
     "data": {
      "text/plain": [
       "'\\ndef RSS(m):\\n    P = 2**m\\n    origin = FSS(m)\\n    RSS_sb = np.array([origin[0]])\\n    RSS_sb[0] = origin[0]\\n    def if_inco(a,b):\\n        eq_n = 0\\n        for i in range(len(a)):\\n            if a[i] == b[i]:\\n                eq_n += 1\\n            else:\\n                pass\\n        if eq_n == int(len(a)/2):\\n            return True\\n        else:\\n            return False\\n\\n    for s_ori in origin:\\n        judge = True\\n        for s_cho in RSS_sb:\\n            if if_inco(s_ori, s_cho):\\n                judge = judge*True\\n            else:\\n                judge = judge*False\\n        if judge:\\n            RSS_sb = np.vstack((RSS_sb,s_ori))\\n            if len(RSS_sb) == P:\\n                break\\n        else:\\n            pass\\n    anti_RSS_sb = RSS_sb*(-1)\\n    RSS_sb = np.vstack((RSS_sb,anti_RSS_sb))\\n    return RSS_sb\\n    \\n'"
      ]
     },
     "execution_count": 4,
     "metadata": {},
     "output_type": "execute_result"
    }
   ],
   "source": [
    "#RSS\n",
    "'''\n",
    "def RSS(m):\n",
    "    a = np.array([[1,1,1,1,1,1,1,1],\n",
    "                  [-1,-1,-1,-1,1,1,1,1],\n",
    "                  [-1,-1,1,1,-1,-1,1,1],\n",
    "                  [1,1,-1,-1,-1,-1,1,1],\n",
    "                  [1,-1,-1,1,1,-1,-1,1],\n",
    "                  [1,-1,-1,1,-1,1,1,-1],\n",
    "                  [-1,1,1,-1,-1,1,1,-1],\n",
    "                  [-1,1,-1,1,-1,1,-1,1]\n",
    "                  ])\n",
    "    b = np.zeros([8,8],dtype=int)\n",
    "    for i in range(8):\n",
    "        for j in range(8):\n",
    "            if a[i][j] ==1:\n",
    "                b[i][j]=-1\n",
    "            elif a[i][j]==-1:\n",
    "                b[i][j]=1\n",
    "    RSS_strategy_book = np.vstack((a,b))\n",
    "            \n",
    "    return RSS_strategy_book\n",
    "\n",
    "'''\n",
    "def RSS(m):\n",
    "    P = 2**m\n",
    "    origin = FSS(m)\n",
    "    RSS_sb = np.array([origin[0]])\n",
    "    RSS_sb[0] = origin[0]\n",
    "    def if_inco(a,b):\n",
    "        eq_n = 0\n",
    "        for i in range(len(a)):\n",
    "            if a[i] == b[i]:\n",
    "                eq_n += 1\n",
    "            else:\n",
    "                pass\n",
    "        if eq_n == int(len(a)/2):\n",
    "            return True\n",
    "        else:\n",
    "            return False\n",
    "\n",
    "    for s_ori in origin:\n",
    "        judge = True\n",
    "        for s_cho in RSS_sb:\n",
    "            if if_inco(s_ori, s_cho):\n",
    "                judge = judge*True\n",
    "            else:\n",
    "                judge = judge*False\n",
    "        if judge:\n",
    "            RSS_sb = np.vstack((RSS_sb,s_ori))\n",
    "            if len(RSS_sb) == P:\n",
    "                break\n",
    "        else:\n",
    "            pass\n",
    "    anti_RSS_sb = RSS_sb*(-1)\n",
    "    RSS_sb = np.vstack((RSS_sb,anti_RSS_sb))\n",
    "    return RSS_sb\n",
    "     \n"
   ]
  },
  {
   "cell_type": "code",
   "execution_count": 75,
   "metadata": {},
   "outputs": [],
   "source": [
    "#D(t):\n",
    "def D(strategy):\n",
    "    '''\n",
    "    strategy is a list with length N and conponents -1, 1 or 0.\n",
    "    '''\n",
    "    D_t = sum(strategy)\n",
    "    return D_t\n",
    "    \n",
    "\n",
    "\n",
    "\n",
    "#X(t) from t-1 step:\n",
    "def lnX(lnx_tm1, strategy):\n",
    "    _lambda_ = np.count_nonzero(strategy)*k0\n",
    "    lnx_t = lnx_tm1 +D(strategy)/_lambda_\n",
    "    return lnx_t"
   ]
  },
  {
   "cell_type": "code",
   "execution_count": 76,
   "metadata": {},
   "outputs": [],
   "source": [
    "#mu(t):\n",
    "def mu(mu_tm1, strategy, L, P):\n",
    "    def H(x):\n",
    "        return 1 if x >= 0 else 0\n",
    "    _lambda_ = np.count_nonzero(strategy)*k0\n",
    "    mu = 2*mu_tm1 - P*H(mu_tm1-P*0.5)+H(D(strategy)/_lambda_-L)\n",
    "    return mu\n",
    "\n",
    "#S(t):\n",
    "def S(T,S_tm1, a, strategy, L):\n",
    "    _lambda_ = np.count_nonzero(strategy)*k0\n",
    "    if _lambda_ ==0:\n",
    "        S = (1-1/T)*S_tm1\n",
    "    else:\n",
    "        S = (1-1/T)*S_tm1 - a*(D(strategy)/_lambda_-L)\n",
    "    sigma = np.sqrt(1/(1-(1-1/T)**2))\n",
    "    S_random = np.random.normal(S, sigma)\n",
    "    return S_random"
   ]
  },
  {
   "cell_type": "code",
   "execution_count": 77,
   "metadata": {},
   "outputs": [],
   "source": [
    "#strategy books chosen by agents:\n",
    "#choose randomly and unchanged:\n",
    "def choose_sb(strategy_books, N, s):\n",
    "    import random\n",
    "    n_sb = np.shape(strategy_books)[0]\n",
    "    index_sb = set(np.arange(n_sb))\n",
    "    strategy_hold = np.zeros([N,s], dtype=int)\n",
    "    for i in range(N):\n",
    "        strategy_hold[i] = np.array(random.sample(index_sb, s))\n",
    "    return strategy_hold\n",
    "    "
   ]
  },
  {
   "cell_type": "markdown",
   "metadata": {},
   "source": [
    "# Steps to participate in the buy/sell game for evey agent( I am an agent!)\n",
    "- I am at t now before I need to decide to buy or sell! What can I see: mu[t], decisions that other agents did at t-1.\n",
    "- I check my strategy books, s strategy books are used. I don't want to change them.\n",
    "- I see the mu[t], and strategy books give me s behaviors that I can act at t, or I can chooce to skip over. How should I decide?\n",
    "- I see the S[t] of each of my strategy books, which can be calculated by S[t-1] and decisions that other agents did at t-1. \n",
    "- I see the max S[t], and see if it is more than r? If so, I will choose the related strategy book, and obey the behavior it offers me. If not, I won't participate in!\n",
    "- Every agent like me will do the same steps, then there will be a decision list done by everyone at t. New X[t+1], mu[t+1]...\n",
    "- I go to the t+1, and everything continue..."
   ]
  },
  {
   "cell_type": "code",
   "execution_count": 4,
   "metadata": {},
   "outputs": [],
   "source": [
    "def buy_sell_game(t_end):\n",
    "    global N, m, s, r, T, L\n",
    "    index_N = np.arange(N)\n",
    "    t_range = np.arange(0,t_end)\n",
    "    #strategy_books = FSS(m)\n",
    "    strategy_books = RSS(m)\n",
    "    strategy_hold = choose_sb(strategy_books, N, s)\n",
    "    lnX_list = np.zeros(t_end)\n",
    "    lnX_list[0] = 1\n",
    "    mu_list = np.zeros(t_end, dtype = int)\n",
    "    mu_list[0] = 0\n",
    "    Score = np.zeros([N,s], dtype=float)#初始化S\n",
    "    strategy = np.zeros([N,t_end], dtype=int)#初始化strategy\n",
    "    for t in t_range:\n",
    "        if t==0:\n",
    "            for n in index_N:\n",
    "                for index_s in range(s):\n",
    "                    strategy_index = strategy_hold[n][index_s]\n",
    "                    strategy_s = strategy_books[strategy_index]\n",
    "                    Score[n][index_s] = S(T,Score[n][index_s], strategy_s[mu_list[t]], [], L)\n",
    "                Score_max_index = np.argmax(Score[n])\n",
    "                Score_max = Score[n][Score_max_index]\n",
    "                if Score_max>=r:\n",
    "                    strategy_index_chosen = strategy_hold[n][Score_max_index]#选择最大分数的策略\n",
    "                    strategy_s_chosen = strategy_books[strategy_index_chosen][mu_list[t]]\n",
    "                    strategy[n,0] = strategy_s_chosen\n",
    "                else:\n",
    "                    strategy[n,0] = 0#不参加\n",
    "        else:\n",
    "            lnX_list[t] = lnX(lnX_list[t-1], strategy[:,t-1])\n",
    "            mu_list[t] = mu(mu_list[t-1], strategy[:,t-1], L, 2**m)\n",
    "            for n in index_N:\n",
    "                for index_s in range(s):\n",
    "                    strategy_index = strategy_hold[n][index_s]\n",
    "                    strategy_s = strategy_books[strategy_index]\n",
    "                    Score[n][index_s] = S(T,Score[n][index_s], strategy_s[mu_list[t]], strategy[:,t-1], L)\n",
    "                Score_max_index = np.argmax(Score[n])\n",
    "                Score_max = Score[n][Score_max_index]\n",
    "                if Score_max>=r:\n",
    "                    strategy_index_chosen = strategy_hold[n][Score_max_index]#选择最大分数的策略\n",
    "                    strategy_s_chosen = strategy_books[strategy_index_chosen][mu_list[t]]\n",
    "                    strategy[n,t] = strategy_s_chosen\n",
    "                else:\n",
    "                    strategy[n,t] = 0#不参加\n",
    "    #plot figures\n",
    "    t_range = np.arange(0,step)\n",
    "    def plot_x_list(lnX_list):\n",
    "        plt.rcParams['figure.figsize'] = (20.0, 6.0)\n",
    "        plt.plot(t_range, np.exp(lnX_list))\n",
    "        plt.xlabel('t')\n",
    "        plt.ylabel('X')\n",
    "        plt.title('X-t')\n",
    "    \n",
    "    def plot_Dx(strategy):\n",
    "        plt.rcParams['figure.figsize'] = (20.0, 6.0)\n",
    "        plt.plot(t_range,sum(strategy),lw = 0.5)\n",
    "        plt.xlabel('t')\n",
    "        plt.ylabel('V')\n",
    "        plt.title('V-t')\n",
    "    plot_x_list(lnX_list)\n",
    "    plot_Dx(strategy)\n",
    "    return lnX_list, strategy\n",
    "\n",
    "\n",
    "    "
   ]
  },
  {
   "cell_type": "markdown",
   "metadata": {},
   "source": [
    "# Culculate some statistical results\n",
    "- N_active\n",
    "- the distribution of Deltax\n",
    "- the correlation between Deltax and x itself"
   ]
  },
  {
   "cell_type": "code",
   "execution_count": 3,
   "metadata": {},
   "outputs": [
    {
     "ename": "NameError",
     "evalue": "name 'strategy' is not defined",
     "output_type": "error",
     "traceback": [
      "\u001b[1;31m---------------------------------------------------------------------------\u001b[0m",
      "\u001b[1;31mNameError\u001b[0m                                 Traceback (most recent call last)",
      "\u001b[1;32m<ipython-input-3-ee0f2abfd1c1>\u001b[0m in \u001b[0;36m<module>\u001b[1;34m\u001b[0m\n\u001b[0;32m     14\u001b[0m \u001b[1;33m\u001b[0m\u001b[0m\n\u001b[0;32m     15\u001b[0m \u001b[1;33m\u001b[0m\u001b[0m\n\u001b[1;32m---> 16\u001b[1;33m \u001b[0mplot_N_active\u001b[0m\u001b[1;33m(\u001b[0m\u001b[0mstrategy\u001b[0m\u001b[1;33m)\u001b[0m\u001b[1;33m\u001b[0m\u001b[1;33m\u001b[0m\u001b[0m\n\u001b[0m",
      "\u001b[1;31mNameError\u001b[0m: name 'strategy' is not defined"
     ]
    }
   ],
   "source": [
    "# N_active\n",
    "def plot_N_active(strategy):\n",
    "    N_active_list = np.zeros(step)\n",
    "    for t in range(step):\n",
    "        strategy_i = strategy[:,t]\n",
    "        N_active_list[t] = np.count_nonzero(strategy_i)\n",
    "    t_range = np.arange(step)\n",
    "    plt.rcParams['figure.figsize'] = (20.0, 6.0)\n",
    "    plt.bar(t_range, N_active_list, align='center', alpha = 0.5)\n",
    "    plt.xlabel('t')\n",
    "    plt.ylabel('N_active')\n",
    "    plt.title('N_active-t plot')\n",
    "    plt.show()\n",
    "\n",
    "\n",
    "plot_N_active(strategy)\n"
   ]
  },
  {
   "cell_type": "code",
   "execution_count": 28,
   "metadata": {},
   "outputs": [],
   "source": [
    "# distribution\n",
    "def distribution(x_list):\n",
    "    delta_x_list = np.zeros(step-1)\n",
    "    for i in range(step-1):\n",
    "        delta_x_list[i] = x_list[i+1] - x_list[i]\n",
    "    delta_x_min = min(delta_x_list)\n",
    "    delta_x_max = max(delta_x_list)\n",
    "    d_deltax = (delta_x_max-delta_x_min)/30\n",
    "    delta_x_range = np.linspace(delta_x_min,delta_x_max, 30)\n",
    "    distribute_n = np.zeros(30)\n",
    "    for i in range(29):\n",
    "        dx_min = delta_x_range[i]\n",
    "        dx_max = delta_x_range[i+1]\n",
    "        delta_x_list_copy = delta_x_list[:]\n",
    "        for deltax in delta_x_list_copy:\n",
    "            if (deltax>=dx_min) and (deltax<dx_max):\n",
    "                distribute_n[i]+=1#落在区间的计数\n",
    "                delta_x_list = np.delete(delta_x_list, np.where(delta_x_list == deltax))#删掉计数的\n",
    "            else:\n",
    "                pass\n",
    "    distribute_n[-1] = len(delta_x_list)#剩下的\n",
    "    plt.rcParams['figure.figsize'] = (8.0, 6.0)\n",
    "    plt.bar(delta_x_range, distribute_n, width=d_deltax, align='center', alpha = 0.5)\n",
    "    plt.xlabel('delta_x')\n",
    "    plt.ylabel('p(delta_x)')\n",
    "    plt.title('distribution of deltax')\n",
    "    plt.show()\n",
    "\n",
    "\n",
    " \n",
    "distribution(np.exp(lnX_list))           \n"
   ]
  },
  {
   "cell_type": "code",
   "execution_count": 2,
   "metadata": {},
   "outputs": [
    {
     "ename": "NameError",
     "evalue": "name 'deltax_list' is not defined",
     "output_type": "error",
     "traceback": [
      "\u001b[1;31m---------------------------------------------------------------------------\u001b[0m",
      "\u001b[1;31mNameError\u001b[0m                                 Traceback (most recent call last)",
      "\u001b[1;32m<ipython-input-2-e0620eaad6a5>\u001b[0m in \u001b[0;36m<module>\u001b[1;34m\u001b[0m\n\u001b[0;32m     18\u001b[0m \u001b[1;33m\u001b[0m\u001b[0m\n\u001b[0;32m     19\u001b[0m     \u001b[0mplt\u001b[0m\u001b[1;33m.\u001b[0m\u001b[0mshow\u001b[0m\u001b[1;33m(\u001b[0m\u001b[1;33m)\u001b[0m \u001b[1;31m# 显示图形\u001b[0m\u001b[1;33m\u001b[0m\u001b[1;33m\u001b[0m\u001b[0m\n\u001b[1;32m---> 20\u001b[1;33m \u001b[0mQQ_plot\u001b[0m\u001b[1;33m(\u001b[0m\u001b[0mdeltax_list\u001b[0m\u001b[1;33m)\u001b[0m\u001b[1;33m\u001b[0m\u001b[1;33m\u001b[0m\u001b[0m\n\u001b[0m",
      "\u001b[1;31mNameError\u001b[0m: name 'deltax_list' is not defined"
     ]
    }
   ],
   "source": [
    "#stylised facts: fat tail\n",
    "import scipy.stats as st\n",
    "def QQ_plot(data_list):\n",
    "    # 计算标准正态分位数，分别为0, 1/10, 2/20,..., 10/10\n",
    "    quantiles = st.norm.ppf(np.linspace(0.01, 0.99, len(data_list)))\n",
    "    # 对原始数据排序\n",
    "    data_sort = np.sort(data_list)\n",
    "    plt.scatter(quantiles, data_sort, s = 1, color='r')\n",
    "    plt.xlabel('Quantiles of normal distribution') # 设置横坐标名称\n",
    "\n",
    "    plt.ylabel('Quantiles of data') # 设置纵坐标名称\n",
    "\n",
    "    # 绘制理论分位数直线\n",
    "\n",
    "    line = quantiles * np.std(data_sort) + np.mean(data_sort) # 计算理论分位数直线的纵坐标值\n",
    "\n",
    "    plt.plot(quantiles, line, 'b--') # 根据标准正态分位数和理论分位数直线的纵坐标值绘制直线，颜色为红色虚线\n",
    "\n",
    "    plt.show() # 显示图形\n",
    "QQ_plot(deltax_list)"
   ]
  },
  {
   "cell_type": "code",
   "execution_count": 110,
   "metadata": {},
   "outputs": [
    {
     "data": {
      "image/png": "[encoded data removed]",
      "text/plain": [
       "<Figure size 576x432 with 1 Axes>"
      ]
     },
     "metadata": {
      "needs_background": "light"
     },
     "output_type": "display_data"
    }
   ],
   "source": [
    "#correlation function\n",
    "deltax_list = np.array([np.exp(lnX_list[i+1])-np.exp(lnX_list[i]) for i in range(len(lnX_list)-1)])\n",
    "x_list = np.exp(lnX_list)\n",
    "def correlation_function(a_list,b_list,a_name,b_name):\n",
    "\n",
    "    cor_list = np.array([])\n",
    "    for i in np.arange(int(step/10)):\n",
    "        a_list_bin = a_list[10*i:(10*i+9)]\n",
    "        b_list_bin = b_list[10*i:(10*i+9)]\n",
    "        cor = np.correlate(a_list_bin, b_list_bin)\n",
    "        cor_list = np.append(cor_list, cor)\n",
    "    step_list = np.arange(0, step, 10)\n",
    "    plt.rcParams['figure.figsize'] = (8.0, 6.0)\n",
    "    plt.scatter(step_list, cor_list, s = 5, marker= 'o', color = 'r')\n",
    "    plt.xlabel('t')\n",
    "    plt.title('correlation function of {} and {}'.format(a_name,b_name ))\n",
    "    plt.ylabel('cor')\n",
    "\n",
    "correlation_function(deltax_list, x_list,'deltax', 'x')"
   ]
  },
  {
   "cell_type": "markdown",
   "metadata": {},
   "source": [
    "# Advanced simulation consideration\n",
    "- MM model(4.10 as the score function)\n",
    "- agent wealth\n",
    "- time scale"
   ]
  },
  {
   "cell_type": "code",
   "execution_count": null,
   "metadata": {
    "vscode": {
     "languageId": "plaintext"
    }
   },
   "outputs": [],
   "source": [
    "# new S in MM"
   ]
  }
 ],
 "metadata": {
  "kernelspec": {
   "display_name": "Python 3",
   "language": "python",
   "name": "python3"
  },
  "language_info": {
   "codemirror_mode": {
    "name": "ipython",
    "version": 3
   },
   "file_extension": ".py",
   "mimetype": "text/x-python",
   "name": "python",
   "nbconvert_exporter": "python",
   "pygments_lexer": "ipython3",
   "version": "3.8.8"
  }
 },
 "nbformat": 4,
 "nbformat_minor": 2
}
